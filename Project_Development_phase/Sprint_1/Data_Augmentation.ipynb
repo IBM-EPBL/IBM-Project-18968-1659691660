{
  "cells": [
    {
      "cell_type": "markdown",
      "metadata": {
        "id": "KK71Uttbrg0u"
      },
      "source": [
        "#Importing Required Libraries"
      ]
    },
    {
      "cell_type": "code",
      "execution_count": 13,
      "metadata": {
        "id": "RHNtc5DvrEW-"
      },
      "outputs": [],
      "source": [
        "from keras.preprocessing.image import ImageDataGenerator\n",
        "import cv2\n",
        "from os import listdir\n",
        "import time    "
      ]
    },
    {
      "cell_type": "markdown",
      "metadata": {
        "id": "l7redhyXr_og"
      },
      "source": [
        "#Data Augment function\n"
      ]
    },
    {
      "cell_type": "code",
      "execution_count": 14,
      "metadata": {
        "id": "qOhObDzUr_JG"
      },
      "outputs": [],
      "source": [
        "def augment_data(file_dir, n_generated_samples, save_to_dir):\n",
        "    data_gen = ImageDataGenerator(rotation_range=30, \n",
        "                                  width_shift_range=0.1,\n",
        "                                  height_shift_range=0.15, \n",
        "                                  shear_range=0.25, \n",
        "                                  zoom_range = 0.2,\n",
        "                                  horizontal_flip=True, \n",
        "                                  vertical_flip=False, \n",
        "                                  fill_mode='nearest',\n",
        "                                  brightness_range=(0.5,1.2)\n",
        "                                 )\n",
        "    for filename in listdir(file_dir):\n",
        "        image = cv2.imread(file_dir + '/' + filename)\n",
        "        image = cv2.cvtColor(image,cv2.COLOR_BGR2RGB)\n",
        "        image = image.reshape((1,)+image.shape)\n",
        "        save_prefix = 'aug_' + filename[:-4]    \n",
        "        i=0\n",
        "        for batch in data_gen.flow(x=image, batch_size=1, save_to_dir=save_to_dir,\n",
        "                                   save_prefix=save_prefix, save_format='jpg'):\n",
        "            i += 1\n",
        "            if i > n_generated_samples:\n",
        "                break"
      ]
    },
    {
      "cell_type": "code",
      "execution_count": 15,
      "metadata": {
        "id": "ruxnKYLtsOQl"
      },
      "outputs": [
        {
          "ename": "FileNotFoundError",
          "evalue": "[Errno 2] No such file or directory: './Dataset/Digital_Naturalist_Dataset/GIB_AUG\\\\aug_download (1)_0_1422.jpg'",
          "output_type": "error",
          "traceback": [
            "\u001b[1;31m---------------------------------------------------------------------------\u001b[0m",
            "\u001b[1;31mFileNotFoundError\u001b[0m                         Traceback (most recent call last)",
            "\u001b[1;32mc:\\Users\\pikal\\Desktop\\ibm\\IBM-Project-18968-1659691660\\Project_Development_phase\\Sprint_1\\Data_Augmentation.ipynb Cell 5\u001b[0m in \u001b[0;36m<cell line: 2>\u001b[1;34m()\u001b[0m\n\u001b[0;32m      <a href='vscode-notebook-cell:/c%3A/Users/pikal/Desktop/ibm/IBM-Project-18968-1659691660/Project_Development_phase/Sprint_1/Data_Augmentation.ipynb#W4sZmlsZQ%3D%3D?line=0'>1</a>\u001b[0m augmented_data_path \u001b[39m=\u001b[39m \u001b[39m'\u001b[39m\u001b[39m./Dataset/Digital_Naturalist_Dataset\u001b[39m\u001b[39m'\u001b[39m\n\u001b[1;32m----> <a href='vscode-notebook-cell:/c%3A/Users/pikal/Desktop/ibm/IBM-Project-18968-1659691660/Project_Development_phase/Sprint_1/Data_Augmentation.ipynb#W4sZmlsZQ%3D%3D?line=1'>2</a>\u001b[0m augment_data(file_dir\u001b[39m=\u001b[39;49maugmented_data_path\u001b[39m+\u001b[39;49m\u001b[39m'\u001b[39;49m\u001b[39m/Bird/Great_Indian_Bustard_Bird\u001b[39;49m\u001b[39m'\u001b[39;49m, n_generated_samples\u001b[39m=\u001b[39;49m\u001b[39m20\u001b[39;49m, save_to_dir\u001b[39m=\u001b[39;49maugmented_data_path\u001b[39m+\u001b[39;49m\u001b[39m'\u001b[39;49m\u001b[39m/GIB_AUG\u001b[39;49m\u001b[39m'\u001b[39;49m)\n\u001b[0;32m      <a href='vscode-notebook-cell:/c%3A/Users/pikal/Desktop/ibm/IBM-Project-18968-1659691660/Project_Development_phase/Sprint_1/Data_Augmentation.ipynb#W4sZmlsZQ%3D%3D?line=2'>3</a>\u001b[0m augment_data(file_dir\u001b[39m=\u001b[39maugmented_data_path\u001b[39m+\u001b[39m\u001b[39m'\u001b[39m\u001b[39m/Bird/Spoon_Billed_Sandpiper_Bird\u001b[39m\u001b[39m'\u001b[39m, n_generated_samples\u001b[39m=\u001b[39m\u001b[39m20\u001b[39m, save_to_dir\u001b[39m=\u001b[39maugmented_data_path\u001b[39m+\u001b[39m\u001b[39m'\u001b[39m\u001b[39m/SPS_AUG\u001b[39m\u001b[39m'\u001b[39m)\n\u001b[0;32m      <a href='vscode-notebook-cell:/c%3A/Users/pikal/Desktop/ibm/IBM-Project-18968-1659691660/Project_Development_phase/Sprint_1/Data_Augmentation.ipynb#W4sZmlsZQ%3D%3D?line=3'>4</a>\u001b[0m augment_data(file_dir\u001b[39m=\u001b[39maugmented_data_path\u001b[39m+\u001b[39m\u001b[39m'\u001b[39m\u001b[39m/Flower/Corpse_Flower\u001b[39m\u001b[39m'\u001b[39m, n_generated_samples\u001b[39m=\u001b[39m\u001b[39m20\u001b[39m, save_to_dir\u001b[39m=\u001b[39maugmented_data_path\u001b[39m+\u001b[39m\u001b[39m'\u001b[39m\u001b[39m/Corpse_AUG\u001b[39m\u001b[39m'\u001b[39m)\n",
            "\u001b[1;32mc:\\Users\\pikal\\Desktop\\ibm\\IBM-Project-18968-1659691660\\Project_Development_phase\\Sprint_1\\Data_Augmentation.ipynb Cell 5\u001b[0m in \u001b[0;36maugment_data\u001b[1;34m(file_dir, n_generated_samples, save_to_dir)\u001b[0m\n\u001b[0;32m     <a href='vscode-notebook-cell:/c%3A/Users/pikal/Desktop/ibm/IBM-Project-18968-1659691660/Project_Development_phase/Sprint_1/Data_Augmentation.ipynb#W4sZmlsZQ%3D%3D?line=15'>16</a>\u001b[0m save_prefix \u001b[39m=\u001b[39m \u001b[39m'\u001b[39m\u001b[39maug_\u001b[39m\u001b[39m'\u001b[39m \u001b[39m+\u001b[39m filename[:\u001b[39m-\u001b[39m\u001b[39m4\u001b[39m]    \n\u001b[0;32m     <a href='vscode-notebook-cell:/c%3A/Users/pikal/Desktop/ibm/IBM-Project-18968-1659691660/Project_Development_phase/Sprint_1/Data_Augmentation.ipynb#W4sZmlsZQ%3D%3D?line=16'>17</a>\u001b[0m i\u001b[39m=\u001b[39m\u001b[39m0\u001b[39m\n\u001b[1;32m---> <a href='vscode-notebook-cell:/c%3A/Users/pikal/Desktop/ibm/IBM-Project-18968-1659691660/Project_Development_phase/Sprint_1/Data_Augmentation.ipynb#W4sZmlsZQ%3D%3D?line=17'>18</a>\u001b[0m \u001b[39mfor\u001b[39;00m batch \u001b[39min\u001b[39;00m data_gen\u001b[39m.\u001b[39mflow(x\u001b[39m=\u001b[39mimage, batch_size\u001b[39m=\u001b[39m\u001b[39m1\u001b[39m, save_to_dir\u001b[39m=\u001b[39msave_to_dir,\n\u001b[0;32m     <a href='vscode-notebook-cell:/c%3A/Users/pikal/Desktop/ibm/IBM-Project-18968-1659691660/Project_Development_phase/Sprint_1/Data_Augmentation.ipynb#W4sZmlsZQ%3D%3D?line=18'>19</a>\u001b[0m                            save_prefix\u001b[39m=\u001b[39msave_prefix, save_format\u001b[39m=\u001b[39m\u001b[39m'\u001b[39m\u001b[39mjpg\u001b[39m\u001b[39m'\u001b[39m):\n\u001b[0;32m     <a href='vscode-notebook-cell:/c%3A/Users/pikal/Desktop/ibm/IBM-Project-18968-1659691660/Project_Development_phase/Sprint_1/Data_Augmentation.ipynb#W4sZmlsZQ%3D%3D?line=19'>20</a>\u001b[0m     i \u001b[39m+\u001b[39m\u001b[39m=\u001b[39m \u001b[39m1\u001b[39m\n\u001b[0;32m     <a href='vscode-notebook-cell:/c%3A/Users/pikal/Desktop/ibm/IBM-Project-18968-1659691660/Project_Development_phase/Sprint_1/Data_Augmentation.ipynb#W4sZmlsZQ%3D%3D?line=20'>21</a>\u001b[0m     \u001b[39mif\u001b[39;00m i \u001b[39m>\u001b[39m n_generated_samples:\n",
            "File \u001b[1;32m~\\AppData\\Local\\Packages\\PythonSoftwareFoundation.Python.3.9_qbz5n2kfra8p0\\LocalCache\\local-packages\\Python39\\site-packages\\keras_preprocessing\\image\\iterator.py:104\u001b[0m, in \u001b[0;36mIterator.__next__\u001b[1;34m(self, *args, **kwargs)\u001b[0m\n\u001b[0;32m    103\u001b[0m \u001b[39mdef\u001b[39;00m \u001b[39m__next__\u001b[39m(\u001b[39mself\u001b[39m, \u001b[39m*\u001b[39margs, \u001b[39m*\u001b[39m\u001b[39m*\u001b[39mkwargs):\n\u001b[1;32m--> 104\u001b[0m     \u001b[39mreturn\u001b[39;00m \u001b[39mself\u001b[39m\u001b[39m.\u001b[39mnext(\u001b[39m*\u001b[39margs, \u001b[39m*\u001b[39m\u001b[39m*\u001b[39mkwargs)\n",
            "File \u001b[1;32m~\\AppData\\Local\\Packages\\PythonSoftwareFoundation.Python.3.9_qbz5n2kfra8p0\\LocalCache\\local-packages\\Python39\\site-packages\\keras_preprocessing\\image\\iterator.py:116\u001b[0m, in \u001b[0;36mIterator.next\u001b[1;34m(self)\u001b[0m\n\u001b[0;32m    113\u001b[0m     index_array \u001b[39m=\u001b[39m \u001b[39mnext\u001b[39m(\u001b[39mself\u001b[39m\u001b[39m.\u001b[39mindex_generator)\n\u001b[0;32m    114\u001b[0m \u001b[39m# The transformation of images is not under thread lock\u001b[39;00m\n\u001b[0;32m    115\u001b[0m \u001b[39m# so it can be done in parallel\u001b[39;00m\n\u001b[1;32m--> 116\u001b[0m \u001b[39mreturn\u001b[39;00m \u001b[39mself\u001b[39;49m\u001b[39m.\u001b[39;49m_get_batches_of_transformed_samples(index_array)\n",
            "File \u001b[1;32m~\\AppData\\Local\\Packages\\PythonSoftwareFoundation.Python.3.9_qbz5n2kfra8p0\\LocalCache\\local-packages\\Python39\\site-packages\\keras_preprocessing\\image\\numpy_array_iterator.py:174\u001b[0m, in \u001b[0;36mNumpyArrayIterator._get_batches_of_transformed_samples\u001b[1;34m(self, index_array)\u001b[0m\n\u001b[0;32m    168\u001b[0m         img \u001b[39m=\u001b[39m array_to_img(batch_x[i], \u001b[39mself\u001b[39m\u001b[39m.\u001b[39mdata_format, scale\u001b[39m=\u001b[39m\u001b[39mTrue\u001b[39;00m)\n\u001b[0;32m    169\u001b[0m         fname \u001b[39m=\u001b[39m \u001b[39m'\u001b[39m\u001b[39m{prefix}\u001b[39;00m\u001b[39m_\u001b[39m\u001b[39m{index}\u001b[39;00m\u001b[39m_\u001b[39m\u001b[39m{hash}\u001b[39;00m\u001b[39m.\u001b[39m\u001b[39m{format}\u001b[39;00m\u001b[39m'\u001b[39m\u001b[39m.\u001b[39mformat(\n\u001b[0;32m    170\u001b[0m             prefix\u001b[39m=\u001b[39m\u001b[39mself\u001b[39m\u001b[39m.\u001b[39msave_prefix,\n\u001b[0;32m    171\u001b[0m             index\u001b[39m=\u001b[39mj,\n\u001b[0;32m    172\u001b[0m             \u001b[39mhash\u001b[39m\u001b[39m=\u001b[39mnp\u001b[39m.\u001b[39mrandom\u001b[39m.\u001b[39mrandint(\u001b[39m1e4\u001b[39m),\n\u001b[0;32m    173\u001b[0m             \u001b[39mformat\u001b[39m\u001b[39m=\u001b[39m\u001b[39mself\u001b[39m\u001b[39m.\u001b[39msave_format)\n\u001b[1;32m--> 174\u001b[0m         img\u001b[39m.\u001b[39;49msave(os\u001b[39m.\u001b[39;49mpath\u001b[39m.\u001b[39;49mjoin(\u001b[39mself\u001b[39;49m\u001b[39m.\u001b[39;49msave_to_dir, fname))\n\u001b[0;32m    175\u001b[0m batch_x_miscs \u001b[39m=\u001b[39m [xx[index_array] \u001b[39mfor\u001b[39;00m xx \u001b[39min\u001b[39;00m \u001b[39mself\u001b[39m\u001b[39m.\u001b[39mx_misc]\n\u001b[0;32m    176\u001b[0m output \u001b[39m=\u001b[39m (batch_x \u001b[39mif\u001b[39;00m batch_x_miscs \u001b[39m==\u001b[39m []\n\u001b[0;32m    177\u001b[0m           \u001b[39melse\u001b[39;00m [batch_x] \u001b[39m+\u001b[39m batch_x_miscs,)\n",
            "File \u001b[1;32m~\\AppData\\Local\\Packages\\PythonSoftwareFoundation.Python.3.9_qbz5n2kfra8p0\\LocalCache\\local-packages\\Python39\\site-packages\\PIL\\Image.py:2317\u001b[0m, in \u001b[0;36mImage.save\u001b[1;34m(self, fp, format, **params)\u001b[0m\n\u001b[0;32m   2315\u001b[0m         fp \u001b[39m=\u001b[39m builtins\u001b[39m.\u001b[39mopen(filename, \u001b[39m\"\u001b[39m\u001b[39mr+b\u001b[39m\u001b[39m\"\u001b[39m)\n\u001b[0;32m   2316\u001b[0m     \u001b[39melse\u001b[39;00m:\n\u001b[1;32m-> 2317\u001b[0m         fp \u001b[39m=\u001b[39m builtins\u001b[39m.\u001b[39;49mopen(filename, \u001b[39m\"\u001b[39;49m\u001b[39mw+b\u001b[39;49m\u001b[39m\"\u001b[39;49m)\n\u001b[0;32m   2319\u001b[0m \u001b[39mtry\u001b[39;00m:\n\u001b[0;32m   2320\u001b[0m     save_handler(\u001b[39mself\u001b[39m, fp, filename)\n",
            "\u001b[1;31mFileNotFoundError\u001b[0m: [Errno 2] No such file or directory: './Dataset/Digital_Naturalist_Dataset/GIB_AUG\\\\aug_download (1)_0_1422.jpg'"
          ]
        }
      ],
      "source": [
        "augmented_data_path = 'Dataset/Digital_Naturalist_Dataset'\n",
        "augment_data(file_dir=augmented_data_path+'/Bird/Great_Indian_Bustard_Bird', n_generated_samples=20, save_to_dir=augmented_data_path+'/GIB_AUG')\n",
        "augment_data(file_dir=augmented_data_path+'/Bird/Spoon_Billed_Sandpiper_Bird', n_generated_samples=20, save_to_dir=augmented_data_path+'/SPS_AUG')\n",
        "augment_data(file_dir=augmented_data_path+'/Flower/Corpse_Flower', n_generated_samples=20, save_to_dir=augmented_data_path+'/Corpse_AUG')\n",
        "augment_data(file_dir=augmented_data_path+'/Flower/Lady_Slipper_Orchid_Flower', n_generated_samples=20, save_to_dir=augmented_data_path+'/LS_Orchid_AUG')\n",
        "augment_data(file_dir=augmented_data_path+'/Mammal/Pangolin_Mammal', n_generated_samples=20, save_to_dir=augmented_data_path+'/LS_Pangolin_AUG')\n",
        "augment_data(file_dir=augmented_data_path+'/Mammal/Senenca_White_Deer_Mammal', n_generated_samples=20, save_to_dir=augmented_data_path+'/SW_Deer_AUG')"
      ]
    }
  ],
  "metadata": {
    "colab": {
      "collapsed_sections": [],
      "provenance": []
    },
    "kernelspec": {
      "display_name": "Python 3.9.13 64-bit (microsoft store)",
      "language": "python",
      "name": "python3"
    },
    "language_info": {
      "codemirror_mode": {
        "name": "ipython",
        "version": 3
      },
      "file_extension": ".py",
      "mimetype": "text/x-python",
      "name": "python",
      "nbconvert_exporter": "python",
      "pygments_lexer": "ipython3",
      "version": "3.9.13"
    },
    "vscode": {
      "interpreter": {
        "hash": "c7756e51e57c09a25f731ad529fa949f4900551826f1e7caa52da815e88dc11f"
      }
    }
  },
  "nbformat": 4,
  "nbformat_minor": 0
}
