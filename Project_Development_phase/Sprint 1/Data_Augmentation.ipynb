{
  "cells": [
    {
      "cell_type": "code",
      "execution_count": null,
      "metadata": {
        "colab": {
          "base_uri": "https://localhost:8080/"
        },
        "id": "3GUjYAKFsgAn",
        "outputId": "8050098c-16ac-44f6-f643-120a17cbb88f"
      },
      "outputs": [],
      "source": [
        "!unzip \"/content/Digital Naturalist Dataset.zip\""
      ]
    },
    {
      "cell_type": "markdown",
      "metadata": {
        "id": "KK71Uttbrg0u"
      },
      "source": [
        "#Importing Required Libraries"
      ]
    },
    {
      "cell_type": "code",
      "execution_count": null,
      "metadata": {
        "id": "RHNtc5DvrEW-"
      },
      "outputs": [],
      "source": [
        "from keras.preprocessing.image import ImageDataGenerator\n",
        "import cv2\n",
        "from os import listdir\n",
        "import time    "
      ]
    },
    {
      "cell_type": "markdown",
      "metadata": {
        "id": "l7redhyXr_og"
      },
      "source": [
        "#Data Augment function\n"
      ]
    },
    {
      "cell_type": "code",
      "execution_count": null,
      "metadata": {
        "id": "qOhObDzUr_JG"
      },
      "outputs": [],
      "source": [
        "def augment_data(file_dir, n_generated_samples, save_to_dir):\n",
        "    data_gen = ImageDataGenerator(rotation_range=30, \n",
        "                                  width_shift_range=0.1,\n",
        "                                  height_shift_range=0.15, \n",
        "                                  shear_range=0.25, \n",
        "                                  zoom_range = 0.2,\n",
        "                                  horizontal_flip=True, \n",
        "                                  vertical_flip=False, \n",
        "                                  fill_mode='nearest',\n",
        "                                  brightness_range=(0.5,1.2)\n",
        "                                 )\n",
        "    for filename in listdir(file_dir):\n",
        "        image = cv2.imread(file_dir + '/' + filename)\n",
        "        image = cv2.cvtColor(image,cv2.COLOR_BGR2RGB)\n",
        "        image = image.reshape((1,)+image.shape)\n",
        "        save_prefix = 'aug_' + filename[:-4]    \n",
        "        i=0\n",
        "        for batch in data_gen.flow(x=image, batch_size=1, save_to_dir=save_to_dir,\n",
        "                                   save_prefix=save_prefix, save_format='jpg'):\n",
        "            i += 1\n",
        "            if i > n_generated_samples:\n",
        "                break"
      ]
    },
    {
      "cell_type": "code",
      "execution_count": null,
      "metadata": {
        "id": "ruxnKYLtsOQl"
      },
      "outputs": [],
      "source": [
        "augmented_data_path = '/content/Augument Dataset'\n",
        "augment_data(file_dir='/content/Digital Naturalist Dataset/Bird/Great Indian Bustard Bird', n_generated_samples=20, save_to_dir=augmented_data_path+'/GIB_AUG')\n",
        "augment_data(file_dir='/content/Digital Naturalist Dataset/Bird/Spoon Billed Sandpiper Bird', n_generated_samples=20, save_to_dir=augmented_data_path+'/SPS_AUG')\n",
        "augment_data(file_dir='/content/Digital Naturalist Dataset/Flower/Corpse Flower', n_generated_samples=20, save_to_dir=augmented_data_path+'/Corpse_AUG')\n",
        "augment_data(file_dir='/content/Digital Naturalist Dataset/Flower/Lady Slipper Orchid Flower', n_generated_samples=20, save_to_dir=augmented_data_path+'/LS_Orchid_AUG')\n",
        "augment_data(file_dir='/content/Digital Naturalist Dataset/Mammal/Pangolin Mammal', n_generated_samples=20, save_to_dir=augmented_data_path+'/LS_Pangolin_AUG')\n",
        "augment_data(file_dir='/content/Digital Naturalist Dataset/Mammal/Senenca White Deer Mammal', n_generated_samples=20, save_to_dir=augmented_data_path+'/SW_Deer_AUG')"
      ]
    }
  ],
  "metadata": {
    "colab": {
      "collapsed_sections": [],
      "provenance": []
    },
    "kernelspec": {
      "display_name": "Python 3",
      "name": "python3"
    },
    "language_info": {
      "name": "python"
    }
  },
  "nbformat": 4,
  "nbformat_minor": 0
}
