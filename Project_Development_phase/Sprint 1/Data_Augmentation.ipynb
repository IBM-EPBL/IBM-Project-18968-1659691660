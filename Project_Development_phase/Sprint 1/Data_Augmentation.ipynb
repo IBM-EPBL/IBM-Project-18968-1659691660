{
  "cells": [
    {
      "cell_type": "markdown",
      "metadata": {
        "id": "KK71Uttbrg0u"
      },
      "source": [
        "#Importing Required Libraries"
      ]
    },
    {
      "cell_type": "code",
      "execution_count": 4,
      "metadata": {
        "id": "RHNtc5DvrEW-"
      },
      "outputs": [],
      "source": [
        "from keras.preprocessing.image import ImageDataGenerator\n",
        "import cv2\n",
        "from os import listdir\n",
        "import time    "
      ]
    },
    {
      "cell_type": "markdown",
      "metadata": {
        "id": "l7redhyXr_og"
      },
      "source": [
        "#Data Augment function\n"
      ]
    },
    {
      "cell_type": "code",
      "execution_count": 5,
      "metadata": {
        "id": "qOhObDzUr_JG"
      },
      "outputs": [],
      "source": [
        "def augment_data(file_dir, n_generated_samples, save_to_dir):\n",
        "    data_gen = ImageDataGenerator(rotation_range=30, \n",
        "                                  width_shift_range=0.1,\n",
        "                                  height_shift_range=0.15, \n",
        "                                  shear_range=0.25, \n",
        "                                  zoom_range = 0.2,\n",
        "                                  horizontal_flip=True, \n",
        "                                  vertical_flip=False, \n",
        "                                  fill_mode='nearest',\n",
        "                                  brightness_range=(0.5,1.2)\n",
        "                                 )\n",
        "    for filename in listdir(file_dir):\n",
        "        image = cv2.imread(file_dir + '/' + filename)\n",
        "        image = cv2.cvtColor(image,cv2.COLOR_BGR2RGB)\n",
        "        image = image.reshape((1,)+image.shape)\n",
        "        save_prefix = 'aug_' + filename[:-4]    \n",
        "        i=0\n",
        "        for batch in data_gen.flow(x=image, batch_size=1, save_to_dir=save_to_dir,\n",
        "                                   save_prefix=save_prefix, save_format='jpg'):\n",
        "            i += 1\n",
        "            if i > n_generated_samples:\n",
        "                break"
      ]
    },
    {
      "cell_type": "code",
      "execution_count": 18,
      "metadata": {
        "id": "ruxnKYLtsOQl"
      },
      "outputs": [
        {
          "ename": "FileNotFoundError",
          "evalue": "[WinError 3] The system cannot find the path specified: 'Dataset/Digital Naturalist Dataset/Bird/Great Indian Bustard Bird'",
          "output_type": "error",
          "traceback": [
            "\u001b[1;31m---------------------------------------------------------------------------\u001b[0m",
            "\u001b[1;31mFileNotFoundError\u001b[0m                         Traceback (most recent call last)",
            "\u001b[1;32mc:\\Users\\pikal\\Desktop\\ibm\\IBM-Project-18968-1659691660\\Project_Development_phase\\Sprint 1\\Data_Augmentation.ipynb Cell 5\u001b[0m in \u001b[0;36m<cell line: 2>\u001b[1;34m()\u001b[0m\n\u001b[0;32m      <a href='vscode-notebook-cell:/c%3A/Users/pikal/Desktop/ibm/IBM-Project-18968-1659691660/Project_Development_phase/Sprint%201/Data_Augmentation.ipynb#W5sZmlsZQ%3D%3D?line=0'>1</a>\u001b[0m augmented_data_path \u001b[39m=\u001b[39m \u001b[39m'\u001b[39m\u001b[39mDataset/Digital Naturalist Dataset\u001b[39m\u001b[39m'\u001b[39m\n\u001b[1;32m----> <a href='vscode-notebook-cell:/c%3A/Users/pikal/Desktop/ibm/IBM-Project-18968-1659691660/Project_Development_phase/Sprint%201/Data_Augmentation.ipynb#W5sZmlsZQ%3D%3D?line=1'>2</a>\u001b[0m augment_data(file_dir\u001b[39m=\u001b[39;49m\u001b[39m'\u001b[39;49m\u001b[39mDataset/Digital Naturalist Dataset/Bird/Great Indian Bustard Bird\u001b[39;49m\u001b[39m'\u001b[39;49m, n_generated_samples\u001b[39m=\u001b[39;49m\u001b[39m20\u001b[39;49m, save_to_dir\u001b[39m=\u001b[39;49maugmented_data_path\u001b[39m+\u001b[39;49m\u001b[39m'\u001b[39;49m\u001b[39m/GIB_AUG\u001b[39;49m\u001b[39m'\u001b[39;49m)\n\u001b[0;32m      <a href='vscode-notebook-cell:/c%3A/Users/pikal/Desktop/ibm/IBM-Project-18968-1659691660/Project_Development_phase/Sprint%201/Data_Augmentation.ipynb#W5sZmlsZQ%3D%3D?line=2'>3</a>\u001b[0m augment_data(file_dir\u001b[39m=\u001b[39m\u001b[39m'\u001b[39m\u001b[39mDataset/Digital Naturalist Dataset/Bird/Spoon Billed Sandpiper Bird\u001b[39m\u001b[39m'\u001b[39m, n_generated_samples\u001b[39m=\u001b[39m\u001b[39m20\u001b[39m, save_to_dir\u001b[39m=\u001b[39maugmented_data_path\u001b[39m+\u001b[39m\u001b[39m'\u001b[39m\u001b[39m/SPS_AUG\u001b[39m\u001b[39m'\u001b[39m)\n\u001b[0;32m      <a href='vscode-notebook-cell:/c%3A/Users/pikal/Desktop/ibm/IBM-Project-18968-1659691660/Project_Development_phase/Sprint%201/Data_Augmentation.ipynb#W5sZmlsZQ%3D%3D?line=3'>4</a>\u001b[0m augment_data(file_dir\u001b[39m=\u001b[39m\u001b[39m'\u001b[39m\u001b[39mDataset/Digital Naturalist Dataset/Flower/Corpse Flower\u001b[39m\u001b[39m'\u001b[39m, n_generated_samples\u001b[39m=\u001b[39m\u001b[39m20\u001b[39m, save_to_dir\u001b[39m=\u001b[39maugmented_data_path\u001b[39m+\u001b[39m\u001b[39m'\u001b[39m\u001b[39m/Corpse_AUG\u001b[39m\u001b[39m'\u001b[39m)\n",
            "\u001b[1;32mc:\\Users\\pikal\\Desktop\\ibm\\IBM-Project-18968-1659691660\\Project_Development_phase\\Sprint 1\\Data_Augmentation.ipynb Cell 5\u001b[0m in \u001b[0;36maugment_data\u001b[1;34m(file_dir, n_generated_samples, save_to_dir)\u001b[0m\n\u001b[0;32m      <a href='vscode-notebook-cell:/c%3A/Users/pikal/Desktop/ibm/IBM-Project-18968-1659691660/Project_Development_phase/Sprint%201/Data_Augmentation.ipynb#W5sZmlsZQ%3D%3D?line=0'>1</a>\u001b[0m \u001b[39mdef\u001b[39;00m \u001b[39maugment_data\u001b[39m(file_dir, n_generated_samples, save_to_dir):\n\u001b[0;32m      <a href='vscode-notebook-cell:/c%3A/Users/pikal/Desktop/ibm/IBM-Project-18968-1659691660/Project_Development_phase/Sprint%201/Data_Augmentation.ipynb#W5sZmlsZQ%3D%3D?line=1'>2</a>\u001b[0m     data_gen \u001b[39m=\u001b[39m ImageDataGenerator(rotation_range\u001b[39m=\u001b[39m\u001b[39m30\u001b[39m, \n\u001b[0;32m      <a href='vscode-notebook-cell:/c%3A/Users/pikal/Desktop/ibm/IBM-Project-18968-1659691660/Project_Development_phase/Sprint%201/Data_Augmentation.ipynb#W5sZmlsZQ%3D%3D?line=2'>3</a>\u001b[0m                                   width_shift_range\u001b[39m=\u001b[39m\u001b[39m0.1\u001b[39m,\n\u001b[0;32m      <a href='vscode-notebook-cell:/c%3A/Users/pikal/Desktop/ibm/IBM-Project-18968-1659691660/Project_Development_phase/Sprint%201/Data_Augmentation.ipynb#W5sZmlsZQ%3D%3D?line=3'>4</a>\u001b[0m                                   height_shift_range\u001b[39m=\u001b[39m\u001b[39m0.15\u001b[39m, \n\u001b[1;32m   (...)\u001b[0m\n\u001b[0;32m     <a href='vscode-notebook-cell:/c%3A/Users/pikal/Desktop/ibm/IBM-Project-18968-1659691660/Project_Development_phase/Sprint%201/Data_Augmentation.ipynb#W5sZmlsZQ%3D%3D?line=9'>10</a>\u001b[0m                                   brightness_range\u001b[39m=\u001b[39m(\u001b[39m0.5\u001b[39m,\u001b[39m1.2\u001b[39m)\n\u001b[0;32m     <a href='vscode-notebook-cell:/c%3A/Users/pikal/Desktop/ibm/IBM-Project-18968-1659691660/Project_Development_phase/Sprint%201/Data_Augmentation.ipynb#W5sZmlsZQ%3D%3D?line=10'>11</a>\u001b[0m                                  )\n\u001b[1;32m---> <a href='vscode-notebook-cell:/c%3A/Users/pikal/Desktop/ibm/IBM-Project-18968-1659691660/Project_Development_phase/Sprint%201/Data_Augmentation.ipynb#W5sZmlsZQ%3D%3D?line=11'>12</a>\u001b[0m     \u001b[39mfor\u001b[39;00m filename \u001b[39min\u001b[39;00m listdir(file_dir):\n\u001b[0;32m     <a href='vscode-notebook-cell:/c%3A/Users/pikal/Desktop/ibm/IBM-Project-18968-1659691660/Project_Development_phase/Sprint%201/Data_Augmentation.ipynb#W5sZmlsZQ%3D%3D?line=12'>13</a>\u001b[0m         image \u001b[39m=\u001b[39m cv2\u001b[39m.\u001b[39mimread(file_dir \u001b[39m+\u001b[39m \u001b[39m'\u001b[39m\u001b[39m/\u001b[39m\u001b[39m'\u001b[39m \u001b[39m+\u001b[39m filename)\n\u001b[0;32m     <a href='vscode-notebook-cell:/c%3A/Users/pikal/Desktop/ibm/IBM-Project-18968-1659691660/Project_Development_phase/Sprint%201/Data_Augmentation.ipynb#W5sZmlsZQ%3D%3D?line=13'>14</a>\u001b[0m         image \u001b[39m=\u001b[39m cv2\u001b[39m.\u001b[39mcvtColor(image,cv2\u001b[39m.\u001b[39mCOLOR_BGR2RGB)\n",
            "\u001b[1;31mFileNotFoundError\u001b[0m: [WinError 3] The system cannot find the path specified: 'Dataset/Digital Naturalist Dataset/Bird/Great Indian Bustard Bird'"
          ]
        }
      ],
      "source": [
        "augmented_data_path = 'Dataset/Digital Naturalist Dataset'\n",
        "augment_data(file_dir='Dataset/Digital Naturalist Dataset/Bird/Great Indian Bustard Bird', n_generated_samples=20, save_to_dir=augmented_data_path+'/GIB_AUG')\n",
        "augment_data(file_dir='Dataset/Digital Naturalist Dataset/Bird/Spoon Billed Sandpiper Bird', n_generated_samples=20, save_to_dir=augmented_data_path+'/SPS_AUG')\n",
        "augment_data(file_dir='Dataset/Digital Naturalist Dataset/Flower/Corpse Flower', n_generated_samples=20, save_to_dir=augmented_data_path+'/Corpse_AUG')\n",
        "augment_data(file_dir='Dataset/Digital Naturalist Dataset/Flower/Lady Slipper Orchid Flower', n_generated_samples=20, save_to_dir=augmented_data_path+'/LS_Orchid_AUG')\n",
        "augment_data(file_dir='Dataset/Digital Naturalist Dataset/Mammal/Pangolin Mammal', n_generated_samples=20, save_to_dir=augmented_data_path+'/LS_Pangolin_AUG')\n",
        "augment_data(file_dir='Dataset/Digital Naturalist Dataset/Mammal/Senenca White Deer Mammal', n_generated_samples=20, save_to_dir=augmented_data_path+'/SW_Deer_AUG')"
      ]
    }
  ],
  "metadata": {
    "colab": {
      "collapsed_sections": [],
      "provenance": []
    },
    "kernelspec": {
      "display_name": "Python 3.9.13 64-bit (microsoft store)",
      "language": "python",
      "name": "python3"
    },
    "language_info": {
      "codemirror_mode": {
        "name": "ipython",
        "version": 3
      },
      "file_extension": ".py",
      "mimetype": "text/x-python",
      "name": "python",
      "nbconvert_exporter": "python",
      "pygments_lexer": "ipython3",
      "version": "3.9.13"
    },
    "vscode": {
      "interpreter": {
        "hash": "c7756e51e57c09a25f731ad529fa949f4900551826f1e7caa52da815e88dc11f"
      }
    }
  },
  "nbformat": 4,
  "nbformat_minor": 0
}
