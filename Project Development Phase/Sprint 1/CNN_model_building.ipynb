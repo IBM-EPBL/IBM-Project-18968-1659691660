{
  "cells": [
    {
      "cell_type": "code",
      "execution_count": null,
      "metadata": {
        "colab": {
          "base_uri": "https://localhost:8080/"
        },
        "id": "4ASk06nh7qx5",
        "outputId": "440c7130-1727-42af-a5b9-c2022353a36d"
      },
      "outputs": [],
      "source": [
        "!unzip \"/content/data.zip\""
      ]
    },
    {
      "cell_type": "markdown",
      "metadata": {
        "id": "aLnewqQiphql"
      },
      "source": [
        "#Importing required Libraries"
      ]
    },
    {
      "cell_type": "code",
      "execution_count": null,
      "metadata": {
        "id": "vRmuDpGPHHLn"
      },
      "outputs": [],
      "source": [
        "import os, gc, glob, random\n",
        "import numpy as np\n",
        "import matplotlib.pyplot as plt\n",
        "import pandas as pd\n",
        "import tensorflow as tf\n",
        "import keras\n",
        "from PIL import Image\n",
        "from keras.layers import Dense,Flatten\n",
        "from keras.models import Model\n",
        "from keras.applications.inception_v3 import InceptionV3, preprocess_input\n",
        "from keras.callbacks import ModelCheckpoint, EarlyStopping\n",
        "from keras.utils.np_utils import to_categorical\n",
        "from sklearn.model_selection import train_test_split"
      ]
    },
    {
      "cell_type": "markdown",
      "metadata": {
        "id": "Xmx6w1U6xovX"
      },
      "source": [
        "#Using the InceptionV3 pretrained model"
      ]
    },
    {
      "cell_type": "code",
      "execution_count": null,
      "metadata": {
        "colab": {
          "base_uri": "https://localhost:8080/"
        },
        "id": "yPcxhFVdHzuY",
        "outputId": "17234093-891d-4861-ef40-836085693ff3"
      },
      "outputs": [],
      "source": [
        "base_model = InceptionV3(input_shape=(224,224,3),include_top=False)"
      ]
    },
    {
      "cell_type": "markdown",
      "metadata": {
        "id": "hUkm_E7uykMu"
      },
      "source": [
        "#Freezing the weights in the pretrained model"
      ]
    },
    {
      "cell_type": "code",
      "execution_count": null,
      "metadata": {
        "id": "aaYqJEuKIES3"
      },
      "outputs": [],
      "source": [
        "for layer in base_model.layers:\n",
        "  layer.trainable = False"
      ]
    },
    {
      "cell_type": "markdown",
      "metadata": {
        "id": "MpnphNaly0Mb"
      },
      "source": [
        "#Flatening and adding dense layer\n"
      ]
    },
    {
      "cell_type": "code",
      "execution_count": null,
      "metadata": {
        "id": "GI0ftrfxIMPO"
      },
      "outputs": [],
      "source": [
        "X = Flatten()(base_model.output)\n",
        "\n",
        "#using sigmoid function as activation funciton\n",
        "X = Dense(units = 6, activation = 'sigmoid')(X)"
      ]
    },
    {
      "cell_type": "markdown",
      "metadata": {
        "id": "57jaWYAdzamY"
      },
      "source": [
        "#Compiling the model"
      ]
    },
    {
      "cell_type": "code",
      "execution_count": null,
      "metadata": {
        "colab": {
          "base_uri": "https://localhost:8080/"
        },
        "id": "J1yu_KfAIhKT",
        "outputId": "83b0f822-5479-47dc-94cd-2e055e738e5c"
      },
      "outputs": [],
      "source": [
        "model = Model(base_model.input,X)\n",
        "\n",
        "#using adam as the optimizer\n",
        "#accuracy is set as the metrics to judge the performance of the model\n",
        "model.compile(optimizer = 'adam',loss = keras.losses.binary_crossentropy,metrics=['accuracy'])\n",
        "\n",
        "#summarizing the model\n",
        "model.summary()"
      ]
    },
    {
      "cell_type": "markdown",
      "metadata": {
        "id": "fR-o2WaDzkhw"
      },
      "source": [
        "#loading the train and test dataset"
      ]
    },
    {
      "cell_type": "code",
      "execution_count": null,
      "metadata": {
        "colab": {
          "base_uri": "https://localhost:8080/"
        },
        "id": "32Pt1dDhJPd7",
        "outputId": "9030b515-512a-4dde-8dee-455a7943c7f5"
      },
      "outputs": [],
      "source": [
        "#initializing the datagenerator\n",
        "datagen = tf.keras.preprocessing.image.ImageDataGenerator()\n",
        "\n",
        "#loading the train dataset from the directory\n",
        "traindata= datagen.flow_from_directory(directory=\"/content/Train Data\",target_size=(224,224),batch_size=100)\n",
        "\n",
        "#loading the test dataset from the directory\n",
        "testdata= datagen.flow_from_directory(directory=\"/content/Test Data\",target_size=(224,224),batch_size=100)"
      ]
    },
    {
      "cell_type": "code",
      "execution_count": null,
      "metadata": {
        "colab": {
          "base_uri": "https://localhost:8080/"
        },
        "id": "Ah5QlyanS4Wt",
        "outputId": "524ff4f2-02b9-40ec-ea14-1e9676cbe2cb"
      },
      "outputs": [],
      "source": [
        "#listing the found classes from train dataset\n",
        "traindata.class_indices"
      ]
    },
    {
      "cell_type": "markdown",
      "metadata": {
        "id": "8lnX7z7Bz1WI"
      },
      "source": [
        "#Model Checkpoint and Early Stopping"
      ]
    },
    {
      "cell_type": "code",
      "execution_count": null,
      "metadata": {
        "id": "29FEF1tyLVAu"
      },
      "outputs": [],
      "source": [
        "# Creating a model checkpoint which monitors the accuracy of the model and saves the checkpoint\n",
        "mc = ModelCheckpoint(filepath = \"./model.h5\",\n",
        "                     monitor = 'accuracy',\n",
        "                     verbose = 1,\n",
        "                     save_best_only = True)\n",
        "\n",
        "# Creating a earlystopping object which stop training once the model performance stops improving on a hold out validation dataset\n",
        "es = EarlyStopping(monitor = \"accuracy\",\n",
        "                   min_delta = 0.01,\n",
        "                   verbose = 1)\n",
        "\n",
        "call_back = [mc,es]"
      ]
    },
    {
      "cell_type": "markdown",
      "metadata": {
        "id": "YE67u8Sp05nr"
      },
      "source": [
        "# Model fitting"
      ]
    },
    {
      "cell_type": "code",
      "execution_count": null,
      "metadata": {
        "colab": {
          "base_uri": "https://localhost:8080/"
        },
        "id": "6HJcfTZyMaC4",
        "outputId": "989f12fd-ffe1-48e7-d7e1-5b23b954f3b1"
      },
      "outputs": [],
      "source": [
        "# Fitting the model \n",
        "modelHistory = model.fit(traindata, steps_per_epoch=60,epochs = 30,callbacks=call_back,validation_data=testdata)"
      ]
    },
    {
      "cell_type": "markdown",
      "metadata": {
        "id": "6D28UZoX07Te"
      },
      "source": [
        "#Exporting the model"
      ]
    },
    {
      "cell_type": "code",
      "execution_count": null,
      "metadata": {
        "colab": {
          "base_uri": "https://localhost:8080/"
        },
        "id": "bxBNwKwXNQgx",
        "outputId": "a69949bf-350e-4b18-bc76-7ee6950666e0"
      },
      "outputs": [],
      "source": [
        "# Exporting the model to json \n",
        "model_json = model.to_json()\n",
        "with open(\"DigitalNaturalist.json\", \"w\") as json_file:\n",
        "    json_file.write(model_json)\n",
        "\n",
        "# Exporting the model weights\n",
        "\n",
        "model.save_weights(\"DigitalNaturalist\")\n",
        "print(\"Saved model to disk\")"
      ]
    },
    {
      "cell_type": "markdown",
      "metadata": {
        "id": "WAA68lEC0-1c"
      },
      "source": [
        "# Testing the model"
      ]
    },
    {
      "cell_type": "code",
      "execution_count": null,
      "metadata": {
        "colab": {
          "base_uri": "https://localhost:8080/",
          "height": 53
        },
        "id": "mkGod5WSNrN0",
        "outputId": "d4fc6817-55a5-40d8-f344-b18b8c167148"
      },
      "outputs": [],
      "source": [
        "#Testing the model \n",
        "predictions = [\"Corpse Flower\", \n",
        "               \"Great Indian Bustard\", \n",
        "               \"Lady's slipper orchid\", \n",
        "               \"Pangolin\", \n",
        "               \"Spoon Billed Sandpiper\", \n",
        "               \"Seneca White Deer\"\n",
        "              ]\n",
        "\n",
        "\n",
        "path = '/content/Test Data/GIB_AUG/aug_download (1)_0_2011.jpg'\n",
        "ime = tf.keras.utils.load_img(path,target_size=(224,224))\n",
        "\n",
        "i = tf.keras.preprocessing.image.img_to_array(ime)\n",
        "i = preprocess_input(i)\n",
        "input = np.array([i])\n",
        "pred = model.predict(input)\n",
        "predictions[np.argmax(pred)]"
      ]
    }
  ],
  "metadata": {
    "accelerator": "GPU",
    "colab": {
      "collapsed_sections": [],
      "provenance": []
    },
    "gpuClass": "standard",
    "kernelspec": {
      "display_name": "Python 3.8.5 ('base')",
      "language": "python",
      "name": "python3"
    },
    "language_info": {
      "codemirror_mode": {
        "name": "ipython",
        "version": 3
      },
      "file_extension": ".py",
      "mimetype": "text/x-python",
      "name": "python",
      "nbconvert_exporter": "python",
      "pygments_lexer": "ipython3",
      "version": "3.8.5"
    },
    "vscode": {
      "interpreter": {
        "hash": "ad2bdc8ecc057115af97d19610ffacc2b4e99fae6737bb82f5d7fb13d2f2c186"
      }
    }
  },
  "nbformat": 4,
  "nbformat_minor": 0
}
